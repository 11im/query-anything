{
 "cells": [
  {
   "cell_type": "code",
   "execution_count": null,
   "metadata": {},
   "outputs": [],
   "source": [
    "import pkg.dbs.postgres\n",
    "from pkg import config\n",
    "from pkg import claude\n",
    "import json\n",
    "import os"
   ]
  },
  {
   "cell_type": "code",
   "execution_count": 7,
   "metadata": {},
   "outputs": [],
   "source": [
    "api_key = config.get_API_keys()"
   ]
  },
  {
   "cell_type": "code",
   "execution_count": 5,
   "metadata": {},
   "outputs": [
    {
     "name": "stdout",
     "output_type": "stream",
     "text": [
      "Generated SQL Query:\n",
      "SELECT COUNT(*) FROM 부대 WHERE Organization LIKE '%사단%';\n"
     ]
    }
   ],
   "source": [
    "# Get DB Schema\n",
    "conf = config.getConfig(\"./config/config.ini\")\n",
    "pconf = conf['postgres']\n",
    "psql = pkg.dbs.postgres.PSQL(pconf['host'], int(pconf['port']),pconf['db'],pconf['user'],pconf['pw'])\n",
    "\n",
    "# Tables\n",
    "tables = psql.get_db_schema()\n",
    "\n",
    "# Foreign Keys\n",
    "foreign_keys = psql.get_foregin_keys()\n",
    "\n",
    "# Types\n",
    "typs = psql.get_db_types()\n",
    "\n",
    "# Initialize with your API key\n",
    "generator = claude.SQLQueryGenerator(api_key)\n",
    "\n",
    "\n",
    "# Define example Q&A pairs\n",
    "examples = [\n",
    "    {\n",
    "        \"question\": \"How many people whose name is Hong Gil-dong are there?\",\n",
    "        \"query\": \"SELECT count(*) FROM 인적정보 WHERE Name = '홍길동';\"\n",
    "    },\n",
    "    {\n",
    "        \"question\": \"How many certificates have the name 통신자격증 are there?\",\n",
    "        \"query\": \"SELECT count(*) FROM 자격증 WHERE Name = '통신자격증';\"\n",
    "    },\n",
    "    {\n",
    "        \"question\": \"How many ReqGrade 2 are there?\",\n",
    "        \"query\": \"SELECT count(*) FROM 병과 WHERE ReqGrade = 2;\"\n",
    "    }\n",
    "]\n",
    "\n",
    "\n",
    "# Generate query for a sample question\n",
    "question = \"What are the Name and Affiliation IDs of people whose 신체검사 Grade 1 or 2?\"\n",
    "result = generator.generate_query(question, tables, examples, foreign_keys)\n",
    "\n",
    "# Print the result\n",
    "print(\"Generated SQL Query:\")\n",
    "print(result.query if result.query else result.explanation)\n"
   ]
  },
  {
   "cell_type": "code",
   "execution_count": null,
   "metadata": {},
   "outputs": [],
   "source": []
  },
  {
   "cell_type": "code",
   "execution_count": null,
   "metadata": {},
   "outputs": [],
   "source": []
  }
 ],
 "metadata": {
  "kernelspec": {
   "display_name": ".venv",
   "language": "python",
   "name": "python3"
  },
  "language_info": {
   "name": "python",
   "version": "3.12.7"
  }
 },
 "nbformat": 4,
 "nbformat_minor": 2
}
