{
 "cells": [
  {
   "cell_type": "code",
   "execution_count": 1,
   "metadata": {},
   "outputs": [],
   "source": [
    "import pkg.dbs.postgres\n",
    "from pkg import config\n",
    "from pkg import claude\n",
    "import json\n",
    "import os"
   ]
  },
  {
   "cell_type": "code",
   "execution_count": 2,
   "metadata": {},
   "outputs": [],
   "source": [
    "api_key = config.get_API_keys()"
   ]
  },
  {
   "cell_type": "code",
   "execution_count": 3,
   "metadata": {},
   "outputs": [
    {
     "name": "stdout",
     "output_type": "stream",
     "text": [
      "Generated SQL Query:\n",
      "SELECT * FROM personalinformation WHERE address1 LIKE '%서울특별시%';\n"
     ]
    }
   ],
   "source": [
    "# Get DB Schema\n",
    "conf = config.getConfig(\"./config/config.ini\")\n",
    "pconf = conf['postgres']\n",
    "psql = pkg.dbs.postgres.PSQL(pconf['host'], int(pconf['port']),pconf['db'],pconf['user'],pconf['pw'])\n",
    "\n",
    "# Tables\n",
    "tables = psql.get_db_schema()\n",
    "\n",
    "# Foreign Keys\n",
    "foreign_keys = psql.get_foregin_keys()\n",
    "\n",
    "# Types\n",
    "types = psql.get_db_types()\n",
    "\n",
    "# Initialize with your API key\n",
    "generator = claude.SQLQueryGenerator(api_key)\n",
    "\n",
    "\n",
    "# Define example Q&A pairs\n",
    "examples = [\n",
    "    {\n",
    "        \"question\": \"How many people whose name is Hong Gil-dong are there?\",\n",
    "        \"query\": \"SELECT count(*) FROM 인적정보 WHERE Name = '홍길동';\"\n",
    "    },\n",
    "    {\n",
    "        \"question\": \"How many certificates have the name 통신자격증 are there?\",\n",
    "        \"query\": \"SELECT count(*) FROM 자격증 WHERE Name = '통신자격증';\"\n",
    "    },\n",
    "    {\n",
    "        \"question\": \"How many ReqGrade 2 are there?\",\n",
    "        \"query\": \"SELECT count(*) FROM 병과 WHERE ReqGrade = 2;\"\n",
    "    }\n",
    "]\n",
    "\n",
    "\n",
    "# Generate query for a sample question\n",
    "question = '\"서울특별시\"에 거주하는 사람의 정보를 모두 보고 싶어'\n",
    "result = generator.generate_query(question, tables, examples, foreign_keys, types)\n",
    "\n",
    "# Print the result\n",
    "print(\"Generated SQL Query:\")\n",
    "print(result.query if result.query else result.explanation)\n"
   ]
  },
  {
   "cell_type": "code",
   "execution_count": 4,
   "metadata": {},
   "outputs": [
    {
     "name": "stdout",
     "output_type": "stream",
     "text": [
      "query=\"SELECT * FROM personalinformation WHERE address1 LIKE '%서울특별시%';\" explanation=None\n"
     ]
    }
   ],
   "source": [
    "print(result)"
   ]
  },
  {
   "cell_type": "code",
   "execution_count": 5,
   "metadata": {},
   "outputs": [],
   "source": [
    "query_res = psql.query(result.query)"
   ]
  },
  {
   "cell_type": "code",
   "execution_count": 6,
   "metadata": {},
   "outputs": [],
   "source": [
    "data = json.dumps(query_res, ensure_ascii=False)"
   ]
  },
  {
   "cell_type": "code",
   "execution_count": 7,
   "metadata": {},
   "outputs": [],
   "source": [
    "report_generator = claude.ReportGenerator(api_key)\n",
    "report = report_generator.generate_report(data=data,\n",
    "                                 question=question,\n",
    "                                 explanation=result.explanation\n",
    "                                 )"
   ]
  },
  {
   "cell_type": "code",
   "execution_count": 11,
   "metadata": {},
   "outputs": [],
   "source": [
    "report_res = json.loads(report.content)"
   ]
  },
  {
   "cell_type": "code",
   "execution_count": 14,
   "metadata": {},
   "outputs": [
    {
     "name": "stdout",
     "output_type": "stream",
     "text": [
      "요청하신 '서울특별시'에 거주하는 사람들의 정보를 제공해 드리겠습니다. 제공된 데이터는 주민등록번호, 이름, 주소, 종교, 학력, 직업, 자녀수, 건강보험종류 등의 개인 정보를 포함하고 있습니다. 총 506명의 정보가 포함되어 있으며, 이들은 모두 서울특별시에 거주하고 있습니다. 일부 데이터에는 누락된 부분도 있습니다. 이 데이터를 바탕으로 서울특별시 거주민들의 다양한 인구통계학적 특성을 분석할 수 있을 것 같습니다.\n"
     ]
    }
   ],
   "source": [
    "print(report_res['Answer'])"
   ]
  },
  {
   "cell_type": "code",
   "execution_count": null,
   "metadata": {},
   "outputs": [],
   "source": []
  }
 ],
 "metadata": {
  "kernelspec": {
   "display_name": ".venv",
   "language": "python",
   "name": "python3"
  },
  "language_info": {
   "codemirror_mode": {
    "name": "ipython",
    "version": 3
   },
   "file_extension": ".py",
   "mimetype": "text/x-python",
   "name": "python",
   "nbconvert_exporter": "python",
   "pygments_lexer": "ipython3",
   "version": "3.12.7"
  }
 },
 "nbformat": 4,
 "nbformat_minor": 2
}
