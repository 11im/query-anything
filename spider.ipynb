{
 "cells": [
  {
   "cell_type": "code",
   "execution_count": 59,
   "metadata": {},
   "outputs": [],
   "source": [
    "import pandas as pd\n",
    "import json"
   ]
  },
  {
   "cell_type": "code",
   "execution_count": 38,
   "metadata": {},
   "outputs": [],
   "source": [
    "data = pd.read_json('./data/tables.json')"
   ]
  },
  {
   "cell_type": "code",
   "execution_count": 42,
   "metadata": {},
   "outputs": [
    {
     "data": {
      "text/html": [
       "<div>\n",
       "<style scoped>\n",
       "    .dataframe tbody tr th:only-of-type {\n",
       "        vertical-align: middle;\n",
       "    }\n",
       "\n",
       "    .dataframe tbody tr th {\n",
       "        vertical-align: top;\n",
       "    }\n",
       "\n",
       "    .dataframe thead th {\n",
       "        text-align: right;\n",
       "    }\n",
       "</style>\n",
       "<table border=\"1\" class=\"dataframe\">\n",
       "  <thead>\n",
       "    <tr style=\"text-align: right;\">\n",
       "      <th></th>\n",
       "      <th>column_names</th>\n",
       "      <th>column_names_original</th>\n",
       "      <th>column_types</th>\n",
       "      <th>db_id</th>\n",
       "      <th>foreign_keys</th>\n",
       "      <th>primary_keys</th>\n",
       "      <th>table_names</th>\n",
       "      <th>table_names_original</th>\n",
       "    </tr>\n",
       "  </thead>\n",
       "  <tbody>\n",
       "    <tr>\n",
       "      <th>0</th>\n",
       "      <td>[[-1, *], [0, perpetrator id], [0, people id],...</td>\n",
       "      <td>[[-1, *], [0, Perpetrator_ID], [0, People_ID],...</td>\n",
       "      <td>[text, number, number, text, number, text, tex...</td>\n",
       "      <td>perpetrator</td>\n",
       "      <td>[[2, 9]]</td>\n",
       "      <td>[1, 9]</td>\n",
       "      <td>[perpetrator, people]</td>\n",
       "      <td>[perpetrator, people]</td>\n",
       "    </tr>\n",
       "    <tr>\n",
       "      <th>1</th>\n",
       "      <td>[[-1, *], [0, building], [0, room number], [0,...</td>\n",
       "      <td>[[-1, *], [0, building], [0, room_number], [0,...</td>\n",
       "      <td>[text, text, text, number, text, text, number,...</td>\n",
       "      <td>college_2</td>\n",
       "      <td>[[9, 4], [13, 4], [19, 1], [20, 2], [15, 7], [...</td>\n",
       "      <td>[1, 4, 7, 11, 15, 22, 27, 31, 37, 39, 45]</td>\n",
       "      <td>[classroom, department, course, instructor, se...</td>\n",
       "      <td>[classroom, department, course, instructor, se...</td>\n",
       "    </tr>\n",
       "    <tr>\n",
       "      <th>2</th>\n",
       "      <td>[[-1, *], [0, id], [0, city], [0, country], [0...</td>\n",
       "      <td>[[-1, *], [0, id], [0, City], [0, Country], [0...</td>\n",
       "      <td>[text, number, text, text, text, text, text, n...</td>\n",
       "      <td>flight_company</td>\n",
       "      <td>[[20, 7], [19, 1]]</td>\n",
       "      <td>[1, 7, 13]</td>\n",
       "      <td>[airport, operate company, flight]</td>\n",
       "      <td>[airport, operate_company, flight]</td>\n",
       "    </tr>\n",
       "    <tr>\n",
       "      <th>3</th>\n",
       "      <td>[[-1, *], [0, institution id], [0, name], [0, ...</td>\n",
       "      <td>[[-1, *], [0, instID], [0, name], [0, country]...</td>\n",
       "      <td>[text, number, text, text, number, text, text,...</td>\n",
       "      <td>icfp_1</td>\n",
       "      <td>[[11, 7], [10, 1], [9, 4]]</td>\n",
       "      <td>[1, 4, 7, 9]</td>\n",
       "      <td>[institution, authors, papers, authorship count]</td>\n",
       "      <td>[Inst, Authors, Papers, Authorship]</td>\n",
       "    </tr>\n",
       "    <tr>\n",
       "      <th>4</th>\n",
       "      <td>[[-1, *], [0, body builder id], [0, people id]...</td>\n",
       "      <td>[[-1, *], [0, Body_Builder_ID], [0, People_ID]...</td>\n",
       "      <td>[text, number, number, number, number, number,...</td>\n",
       "      <td>body_builder</td>\n",
       "      <td>[[2, 6]]</td>\n",
       "      <td>[1, 6]</td>\n",
       "      <td>[body builder, people]</td>\n",
       "      <td>[body_builder, people]</td>\n",
       "    </tr>\n",
       "  </tbody>\n",
       "</table>\n",
       "</div>"
      ],
      "text/plain": [
       "                                        column_names  \\\n",
       "0  [[-1, *], [0, perpetrator id], [0, people id],...   \n",
       "1  [[-1, *], [0, building], [0, room number], [0,...   \n",
       "2  [[-1, *], [0, id], [0, city], [0, country], [0...   \n",
       "3  [[-1, *], [0, institution id], [0, name], [0, ...   \n",
       "4  [[-1, *], [0, body builder id], [0, people id]...   \n",
       "\n",
       "                               column_names_original  \\\n",
       "0  [[-1, *], [0, Perpetrator_ID], [0, People_ID],...   \n",
       "1  [[-1, *], [0, building], [0, room_number], [0,...   \n",
       "2  [[-1, *], [0, id], [0, City], [0, Country], [0...   \n",
       "3  [[-1, *], [0, instID], [0, name], [0, country]...   \n",
       "4  [[-1, *], [0, Body_Builder_ID], [0, People_ID]...   \n",
       "\n",
       "                                        column_types           db_id  \\\n",
       "0  [text, number, number, text, number, text, tex...     perpetrator   \n",
       "1  [text, text, text, number, text, text, number,...       college_2   \n",
       "2  [text, number, text, text, text, text, text, n...  flight_company   \n",
       "3  [text, number, text, text, number, text, text,...          icfp_1   \n",
       "4  [text, number, number, number, number, number,...    body_builder   \n",
       "\n",
       "                                        foreign_keys  \\\n",
       "0                                           [[2, 9]]   \n",
       "1  [[9, 4], [13, 4], [19, 1], [20, 2], [15, 7], [...   \n",
       "2                                 [[20, 7], [19, 1]]   \n",
       "3                         [[11, 7], [10, 1], [9, 4]]   \n",
       "4                                           [[2, 6]]   \n",
       "\n",
       "                                primary_keys  \\\n",
       "0                                     [1, 9]   \n",
       "1  [1, 4, 7, 11, 15, 22, 27, 31, 37, 39, 45]   \n",
       "2                                 [1, 7, 13]   \n",
       "3                               [1, 4, 7, 9]   \n",
       "4                                     [1, 6]   \n",
       "\n",
       "                                         table_names  \\\n",
       "0                              [perpetrator, people]   \n",
       "1  [classroom, department, course, instructor, se...   \n",
       "2                 [airport, operate company, flight]   \n",
       "3   [institution, authors, papers, authorship count]   \n",
       "4                             [body builder, people]   \n",
       "\n",
       "                                table_names_original  \n",
       "0                              [perpetrator, people]  \n",
       "1  [classroom, department, course, instructor, se...  \n",
       "2                 [airport, operate_company, flight]  \n",
       "3                [Inst, Authors, Papers, Authorship]  \n",
       "4                             [body_builder, people]  "
      ]
     },
     "execution_count": 42,
     "metadata": {},
     "output_type": "execute_result"
    }
   ],
   "source": [
    "data.head()"
   ]
  },
  {
   "cell_type": "code",
   "execution_count": null,
   "metadata": {},
   "outputs": [],
   "source": [
    "\"\"\"\n",
    "datatabase = {\n",
    "    \"db_id\": , data.db_id\n",
    "    \"tables\": tables\n",
    "    \"foreign_keys\": fks\n",
    "    }\n",
    "\n",
    "fks = [fk]\n",
    "\n",
    "fk = {\n",
    "    \"child_table\": ,\n",
    "    \"child_column\": ,\n",
    "    \"parent_table\": ,\n",
    "    \"parent_column\": \n",
    "    }\n",
    "\n",
    "tables = \n",
    "    { \"table_name\":\n",
    "        [column]\n",
    "    }\n",
    "    \n",
    "\n",
    "column = {\n",
    "    \"col_name\": ,\n",
    "    \"column_types\": \n",
    "}\n",
    "\"\"\""
   ]
  },
  {
   "cell_type": "code",
   "execution_count": 25,
   "metadata": {},
   "outputs": [],
   "source": [
    "fks = []\n",
    "for foreign_key in data.foreign_keys:\n",
    "    fk = {\n",
    "        \"child_table\": data.table_names_original[data.column_names_original[foreign_key[0]][0]],\n",
    "        \"child_column\": data.column_names_original[foreign_key[0]][1],\n",
    "        \"parent_table\": data.table_names_original[data.column_names_original[foreign_key[1]][0]],\n",
    "        \"parent_column\": data.column_names_original[foreign_key[1]][1]\n",
    "    }\n",
    "    fks.append(fk)"
   ]
  },
  {
   "cell_type": "code",
   "execution_count": 26,
   "metadata": {},
   "outputs": [
    {
     "data": {
      "text/plain": [
       "[{'child_table': 'perpetrator',\n",
       "  'child_column': 'People_ID',\n",
       "  'parent_table': 'people',\n",
       "  'parent_column': 'People_ID'}]"
      ]
     },
     "execution_count": 26,
     "metadata": {},
     "output_type": "execute_result"
    }
   ],
   "source": [
    "fks"
   ]
  },
  {
   "cell_type": "code",
   "execution_count": 28,
   "metadata": {},
   "outputs": [
    {
     "data": {
      "text/plain": [
       "'text'"
      ]
     },
     "execution_count": 28,
     "metadata": {},
     "output_type": "execute_result"
    }
   ],
   "source": [
    "data.column_types[0]"
   ]
  },
  {
   "cell_type": "code",
   "execution_count": 34,
   "metadata": {},
   "outputs": [],
   "source": [
    "tables = {}\n",
    "for tab in data.table_names_original:\n",
    "    tables[tab] = []\n",
    "\n",
    "for col_idx in range(1,len(data.column_types)):\n",
    "    col = data.column_names_original[col_idx]\n",
    "    column = {\n",
    "        \"col_name\": col[1],\n",
    "        \"column_types\": data.column_types[col_idx]\n",
    "      }\n",
    "    tables[data.table_names_original[col[0]]].append(column)"
   ]
  },
  {
   "cell_type": "code",
   "execution_count": null,
   "metadata": {},
   "outputs": [],
   "source": [
    "dbs[data.db_id] = {}\n",
    "database = {\n",
    "    \"db_id\": data.db_id,\n",
    "    \"tables\": tables,\n",
    "    \"foreign_keys\": fks\n",
    "}\n",
    "dbs.append(database)"
   ]
  },
  {
   "cell_type": "code",
   "execution_count": 57,
   "metadata": {},
   "outputs": [],
   "source": [
    "dbs = {}\n",
    "for db_idx in range(len(data)):\n",
    "    db = data.loc[db_idx]\n",
    "    # print(db)\n",
    "    # break\n",
    "    fks = []\n",
    "    for foreign_key in db.foreign_keys:\n",
    "        fk = {\n",
    "            \"child_table\": db.table_names_original[db.column_names_original[foreign_key[0]][0]],\n",
    "            \"child_column\": db.column_names_original[foreign_key[0]][1],\n",
    "            \"parent_table\": db.table_names_original[db.column_names_original[foreign_key[1]][0]],\n",
    "            \"parent_column\": db.column_names_original[foreign_key[1]][1]\n",
    "        }\n",
    "    fks.append(fk)\n",
    "    \n",
    "    tables = {}\n",
    "    for tab in db.table_names_original:\n",
    "        tables[tab] = []\n",
    "\n",
    "    for col_idx in range(1,len(db.column_types)):\n",
    "        col = db.column_names_original[col_idx]\n",
    "        column = {\n",
    "            \"col_name\": col[1],\n",
    "            \"column_types\": db.column_types[col_idx]\n",
    "        }\n",
    "        tables[db.table_names_original[col[0]]].append(column)\n",
    "    database = {\n",
    "        \"tables\": tables,\n",
    "        \"foreign_keys\": fks\n",
    "    }\n",
    "    dbs[db.db_id] = database"
   ]
  },
  {
   "cell_type": "code",
   "execution_count": 63,
   "metadata": {},
   "outputs": [],
   "source": [
    "res = json.dumps(dbs, indent=4)"
   ]
  },
  {
   "cell_type": "code",
   "execution_count": 64,
   "metadata": {},
   "outputs": [],
   "source": [
    "with open('./data/spider.json','w') as f:\n",
    "    f.write(res)\n",
    "    f.close()"
   ]
  },
  {
   "cell_type": "code",
   "execution_count": null,
   "metadata": {},
   "outputs": [],
   "source": []
  }
 ],
 "metadata": {
  "kernelspec": {
   "display_name": "Python 3",
   "language": "python",
   "name": "python3"
  },
  "language_info": {
   "codemirror_mode": {
    "name": "ipython",
    "version": 3
   },
   "file_extension": ".py",
   "mimetype": "text/x-python",
   "name": "python",
   "nbconvert_exporter": "python",
   "pygments_lexer": "ipython3",
   "version": "3.12.7"
  }
 },
 "nbformat": 4,
 "nbformat_minor": 2
}
