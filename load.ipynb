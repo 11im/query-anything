{
 "cells": [
  {
   "cell_type": "code",
   "execution_count": 1,
   "metadata": {},
   "outputs": [],
   "source": [
    "import pandas as pd\n",
    "import pkg.dbs.postgres\n",
    "from pkg import config\n",
    "from pkg import claude\n"
   ]
  },
  {
   "cell_type": "code",
   "execution_count": 2,
   "metadata": {},
   "outputs": [],
   "source": [
    "conf = config.getConfig(\"./config/config.ini\")\n",
    "pconf = conf['postgres']\n",
    "psql = pkg.dbs.postgres.PSQL(pconf['host'], int(pconf['port']),pconf['db'],pconf['user'],pconf['pw'])"
   ]
  },
  {
   "cell_type": "code",
   "execution_count": 3,
   "metadata": {},
   "outputs": [],
   "source": [
    "units = pd.read_csv('./data/부대.csv')\n",
    "pe = pd.read_csv('./data/pe.csv',encoding='cp949')\n",
    "pi = pd.read_csv('./data/인적정보.csv')\n",
    "cert = pd.read_csv('./data/자격증.csv')\n",
    "job = pd.read_csv('./data/직업.csv',encoding='cp949')\n",
    "si = pd.read_csv('./data/si.csv',encoding='cp949')\n",
    "spec = pd.read_csv('./data/특기.csv')"
   ]
  },
  {
   "cell_type": "code",
   "execution_count": 4,
   "metadata": {},
   "outputs": [
    {
     "data": {
      "text/plain": [
       "ID                 object\n",
       "Name               object\n",
       "Commander          object\n",
       "SubordinateUnit    object\n",
       "Organization       object\n",
       "Num                 int64\n",
       "dtype: object"
      ]
     },
     "execution_count": 4,
     "metadata": {},
     "output_type": "execute_result"
    }
   ],
   "source": [
    "units.dtypes"
   ]
  },
  {
   "cell_type": "code",
   "execution_count": 6,
   "metadata": {},
   "outputs": [],
   "source": [
    "for idx in range(len(units)):\n",
    "    data = units.loc[idx]\n",
    "    psql.insert_data('units',data.ID,data.Commander,data.SubordinateUnit.split(','),data.Organization\n",
    "                     ,data.Num, data.Name)"
   ]
  },
  {
   "cell_type": "code",
   "execution_count": 7,
   "metadata": {},
   "outputs": [
    {
     "data": {
      "text/plain": [
       "ID                object\n",
       "ClassCode          int64\n",
       "ClassName         object\n",
       "SpecialtyName     object\n",
       "Unnamed: 4       float64\n",
       "dtype: object"
      ]
     },
     "execution_count": 7,
     "metadata": {},
     "output_type": "execute_result"
    }
   ],
   "source": [
    "spec.dtypes"
   ]
  },
  {
   "cell_type": "code",
   "execution_count": 8,
   "metadata": {},
   "outputs": [],
   "source": [
    "for idx in range(len(spec)):\n",
    "    data = spec.loc[idx]\n",
    "    psql.insert_data('spec',data.ID,data.ClassName,data.ClassCode,\n",
    "                     data.SpecialtyName)"
   ]
  },
  {
   "cell_type": "code",
   "execution_count": 9,
   "metadata": {},
   "outputs": [
    {
     "data": {
      "text/plain": [
       "ID      object\n",
       "Name    object\n",
       "dtype: object"
      ]
     },
     "execution_count": 9,
     "metadata": {},
     "output_type": "execute_result"
    }
   ],
   "source": [
    "cert.dtypes"
   ]
  },
  {
   "cell_type": "code",
   "execution_count": 10,
   "metadata": {},
   "outputs": [],
   "source": [
    "for idx in range(len(cert)):\n",
    "    data = cert.loc[idx]\n",
    "    psql.insert_data('certificate',data.ID,data.Name)"
   ]
  },
  {
   "cell_type": "code",
   "execution_count": 11,
   "metadata": {},
   "outputs": [
    {
     "data": {
      "text/plain": [
       "ID      object\n",
       "Name    object\n",
       "dtype: object"
      ]
     },
     "execution_count": 11,
     "metadata": {},
     "output_type": "execute_result"
    }
   ],
   "source": [
    "job.dtypes"
   ]
  },
  {
   "cell_type": "code",
   "execution_count": 12,
   "metadata": {},
   "outputs": [],
   "source": [
    "for idx in range(len(job)):\n",
    "    data = job.loc[idx]\n",
    "    psql.insert_data('jobcategory',data.ID,data.Name)"
   ]
  },
  {
   "cell_type": "code",
   "execution_count": 4,
   "metadata": {},
   "outputs": [
    {
     "data": {
      "text/plain": [
       "ID             object\n",
       "EnDate         object\n",
       "DurationDay     int64\n",
       "Rank           object\n",
       "Specialty      object\n",
       "Affiliation    object\n",
       "Discipline     object\n",
       "dtype: object"
      ]
     },
     "execution_count": 4,
     "metadata": {},
     "output_type": "execute_result"
    }
   ],
   "source": [
    "si.dtypes"
   ]
  },
  {
   "cell_type": "code",
   "execution_count": 5,
   "metadata": {},
   "outputs": [],
   "source": [
    "si = si.fillna('')"
   ]
  },
  {
   "cell_type": "code",
   "execution_count": 6,
   "metadata": {},
   "outputs": [],
   "source": [
    "for idx in range(len(si)):\n",
    "    data = si.loc[idx]\n",
    "    psql.insert_data('soldierinformation',data.ID,data.EnDate,data.DurationDay,data.Rank,data.Specialty,data.Affiliation,data.Discipline.split(','))"
   ]
  },
  {
   "cell_type": "code",
   "execution_count": 10,
   "metadata": {},
   "outputs": [
    {
     "data": {
      "text/plain": [
       "ID                  object\n",
       "Name                object\n",
       "ResidentIDB          int64\n",
       "ResidentIDF          int64\n",
       "Address1            object\n",
       "Address2            object\n",
       "Address3            object\n",
       "Address4            object\n",
       "ParentsFather         bool\n",
       "ParentsMother         bool\n",
       "Marry                 bool\n",
       "Child                int64\n",
       "Religion             int64\n",
       "AcademicAbility      int64\n",
       "JobName             object\n",
       "JobYear            float64\n",
       "Certificate         object\n",
       "dtype: object"
      ]
     },
     "execution_count": 10,
     "metadata": {},
     "output_type": "execute_result"
    }
   ],
   "source": [
    "pi.dtypes"
   ]
  },
  {
   "cell_type": "code",
   "execution_count": 11,
   "metadata": {},
   "outputs": [],
   "source": [
    "rel = {'기독교', '불교', '천주교', '원불교', '무교', '기타'}\n",
    "for i, val in enumerate(rel):\n",
    "    pi.Religion = pi.Religion.replace(to_replace=i+1,value=val)"
   ]
  },
  {
   "cell_type": "code",
   "execution_count": 12,
   "metadata": {},
   "outputs": [],
   "source": [
    "aa = {'중', '고', '학사', '석사', '박사'}\n",
    "for i, val in enumerate(aa):\n",
    "    pi.AcademicAbility = pi.AcademicAbility.replace(to_replace=i+1,value=val)"
   ]
  },
  {
   "cell_type": "code",
   "execution_count": 13,
   "metadata": {},
   "outputs": [],
   "source": [
    "pi.JobYear = pi.JobYear.fillna(0)\n",
    "pi = pi.fillna('')"
   ]
  },
  {
   "cell_type": "code",
   "execution_count": 14,
   "metadata": {},
   "outputs": [
    {
     "data": {
      "text/plain": [
       "ID                 0\n",
       "Name               0\n",
       "ResidentIDB        0\n",
       "ResidentIDF        0\n",
       "Address1           0\n",
       "Address2           0\n",
       "Address3           0\n",
       "Address4           0\n",
       "ParentsFather      0\n",
       "ParentsMother      0\n",
       "Marry              0\n",
       "Child              0\n",
       "Religion           0\n",
       "AcademicAbility    0\n",
       "JobName            0\n",
       "JobYear            0\n",
       "Certificate        0\n",
       "dtype: int64"
      ]
     },
     "execution_count": 14,
     "metadata": {},
     "output_type": "execute_result"
    }
   ],
   "source": [
    "pi.isna().sum()"
   ]
  },
  {
   "cell_type": "code",
   "execution_count": 15,
   "metadata": {},
   "outputs": [],
   "source": [
    "for idx in range(len(pi)):\n",
    "    data = pi.loc[idx]\n",
    "    psql.insert_data('personalinformation',data.ID,data.Name,data.ResidentIDB,data.ResidentIDF,data.Address1,data.Address2,data.Address3\n",
    "                     ,data.Address4,data.ParentsFather,data.ParentsMother,data.Marry,data.Child,data.Religion,data.AcademicAbility,data.JobName,data.JobYear,data.Certificate)"
   ]
  },
  {
   "cell_type": "code",
   "execution_count": 6,
   "metadata": {},
   "outputs": [
    {
     "data": {
      "text/plain": [
       "ID               object\n",
       "BloodType        object\n",
       "ExamDate         object\n",
       "ExamLocation     object\n",
       "Height          float64\n",
       "Chest           float64\n",
       "Weight          float64\n",
       "BpHigh          float64\n",
       "BpLow           float64\n",
       "VisionL         float64\n",
       "VisionR         float64\n",
       "PhyGrade          int64\n",
       "dtype: object"
      ]
     },
     "execution_count": 6,
     "metadata": {},
     "output_type": "execute_result"
    }
   ],
   "source": [
    "pe.dtypes"
   ]
  },
  {
   "cell_type": "code",
   "execution_count": 5,
   "metadata": {},
   "outputs": [],
   "source": [
    "pe.ExamDate = pe.ExamDate.astype(str)"
   ]
  },
  {
   "cell_type": "code",
   "execution_count": 7,
   "metadata": {},
   "outputs": [],
   "source": [
    "pe.ExamDate = pe.ExamDate.apply(lambda x: '0' + x if len(x)<=5 else x)"
   ]
  },
  {
   "cell_type": "code",
   "execution_count": 8,
   "metadata": {},
   "outputs": [],
   "source": [
    "pe.ExamDate = pe.ExamDate.apply(lambda x: x[:2]+x[2:4]+'28' if x[2:]=='0229' or '0230' else x)"
   ]
  },
  {
   "cell_type": "code",
   "execution_count": 9,
   "metadata": {},
   "outputs": [],
   "source": [
    "pe.ExamDate = pe.ExamDate.apply(lambda x : '20'+x[:2]+'-'+x[2:4]+'-'+x[-2:])"
   ]
  },
  {
   "cell_type": "code",
   "execution_count": 10,
   "metadata": {},
   "outputs": [
    {
     "data": {
      "text/html": [
       "<div>\n",
       "<style scoped>\n",
       "    .dataframe tbody tr th:only-of-type {\n",
       "        vertical-align: middle;\n",
       "    }\n",
       "\n",
       "    .dataframe tbody tr th {\n",
       "        vertical-align: top;\n",
       "    }\n",
       "\n",
       "    .dataframe thead th {\n",
       "        text-align: right;\n",
       "    }\n",
       "</style>\n",
       "<table border=\"1\" class=\"dataframe\">\n",
       "  <thead>\n",
       "    <tr style=\"text-align: right;\">\n",
       "      <th></th>\n",
       "      <th>ID</th>\n",
       "      <th>BloodType</th>\n",
       "      <th>ExamDate</th>\n",
       "      <th>ExamLocation</th>\n",
       "      <th>Height</th>\n",
       "      <th>Chest</th>\n",
       "      <th>Weight</th>\n",
       "      <th>BpHigh</th>\n",
       "      <th>BpLow</th>\n",
       "      <th>VisionL</th>\n",
       "      <th>VisionR</th>\n",
       "      <th>PhyGrade</th>\n",
       "    </tr>\n",
       "  </thead>\n",
       "  <tbody>\n",
       "    <tr>\n",
       "      <th>0</th>\n",
       "      <td>23-75463585</td>\n",
       "      <td>O</td>\n",
       "      <td>2022-01-28</td>\n",
       "      <td>1검사소</td>\n",
       "      <td>186.0</td>\n",
       "      <td>101.1</td>\n",
       "      <td>86.5</td>\n",
       "      <td>104.9</td>\n",
       "      <td>73.5</td>\n",
       "      <td>0.2</td>\n",
       "      <td>0.5</td>\n",
       "      <td>3</td>\n",
       "    </tr>\n",
       "    <tr>\n",
       "      <th>1</th>\n",
       "      <td>23-72596660</td>\n",
       "      <td>B</td>\n",
       "      <td>2022-02-28</td>\n",
       "      <td>5검사소</td>\n",
       "      <td>181.8</td>\n",
       "      <td>95.3</td>\n",
       "      <td>83.4</td>\n",
       "      <td>117.4</td>\n",
       "      <td>79.1</td>\n",
       "      <td>1.5</td>\n",
       "      <td>1.8</td>\n",
       "      <td>1</td>\n",
       "    </tr>\n",
       "    <tr>\n",
       "      <th>2</th>\n",
       "      <td>23-72347837</td>\n",
       "      <td>B</td>\n",
       "      <td>2022-05-28</td>\n",
       "      <td>9검사소</td>\n",
       "      <td>176.0</td>\n",
       "      <td>100.6</td>\n",
       "      <td>80.9</td>\n",
       "      <td>93.5</td>\n",
       "      <td>73.6</td>\n",
       "      <td>0.6</td>\n",
       "      <td>0.6</td>\n",
       "      <td>2</td>\n",
       "    </tr>\n",
       "    <tr>\n",
       "      <th>3</th>\n",
       "      <td>23-71795363</td>\n",
       "      <td>O</td>\n",
       "      <td>2022-02-28</td>\n",
       "      <td>27검사소</td>\n",
       "      <td>168.6</td>\n",
       "      <td>95.8</td>\n",
       "      <td>78.2</td>\n",
       "      <td>94.3</td>\n",
       "      <td>67.0</td>\n",
       "      <td>1.0</td>\n",
       "      <td>1.0</td>\n",
       "      <td>1</td>\n",
       "    </tr>\n",
       "    <tr>\n",
       "      <th>4</th>\n",
       "      <td>24-71758837</td>\n",
       "      <td>B</td>\n",
       "      <td>2023-08-28</td>\n",
       "      <td>1검사소</td>\n",
       "      <td>187.8</td>\n",
       "      <td>95.6</td>\n",
       "      <td>92.5</td>\n",
       "      <td>109.7</td>\n",
       "      <td>64.4</td>\n",
       "      <td>1.4</td>\n",
       "      <td>1.4</td>\n",
       "      <td>1</td>\n",
       "    </tr>\n",
       "    <tr>\n",
       "      <th>...</th>\n",
       "      <td>...</td>\n",
       "      <td>...</td>\n",
       "      <td>...</td>\n",
       "      <td>...</td>\n",
       "      <td>...</td>\n",
       "      <td>...</td>\n",
       "      <td>...</td>\n",
       "      <td>...</td>\n",
       "      <td>...</td>\n",
       "      <td>...</td>\n",
       "      <td>...</td>\n",
       "      <td>...</td>\n",
       "    </tr>\n",
       "    <tr>\n",
       "      <th>6995</th>\n",
       "      <td>13-13653</td>\n",
       "      <td>AB</td>\n",
       "      <td>2012-04-28</td>\n",
       "      <td>16검사소</td>\n",
       "      <td>188.5</td>\n",
       "      <td>102.1</td>\n",
       "      <td>72.3</td>\n",
       "      <td>109.3</td>\n",
       "      <td>72.9</td>\n",
       "      <td>1.6</td>\n",
       "      <td>1.8</td>\n",
       "      <td>3</td>\n",
       "    </tr>\n",
       "    <tr>\n",
       "      <th>6996</th>\n",
       "      <td>09-18587</td>\n",
       "      <td>A</td>\n",
       "      <td>2008-06-28</td>\n",
       "      <td>17검사소</td>\n",
       "      <td>171.3</td>\n",
       "      <td>99.8</td>\n",
       "      <td>76.0</td>\n",
       "      <td>96.7</td>\n",
       "      <td>75.5</td>\n",
       "      <td>0.6</td>\n",
       "      <td>0.7</td>\n",
       "      <td>1</td>\n",
       "    </tr>\n",
       "    <tr>\n",
       "      <th>6997</th>\n",
       "      <td>20-15814</td>\n",
       "      <td>A</td>\n",
       "      <td>2019-08-28</td>\n",
       "      <td>11검사소</td>\n",
       "      <td>186.8</td>\n",
       "      <td>96.8</td>\n",
       "      <td>87.4</td>\n",
       "      <td>115.9</td>\n",
       "      <td>72.3</td>\n",
       "      <td>0.0</td>\n",
       "      <td>0.2</td>\n",
       "      <td>1</td>\n",
       "    </tr>\n",
       "    <tr>\n",
       "      <th>6998</th>\n",
       "      <td>07-17232</td>\n",
       "      <td>B</td>\n",
       "      <td>2006-08-28</td>\n",
       "      <td>17검사소</td>\n",
       "      <td>170.4</td>\n",
       "      <td>98.9</td>\n",
       "      <td>85.3</td>\n",
       "      <td>102.5</td>\n",
       "      <td>61.1</td>\n",
       "      <td>0.1</td>\n",
       "      <td>0.2</td>\n",
       "      <td>1</td>\n",
       "    </tr>\n",
       "    <tr>\n",
       "      <th>6999</th>\n",
       "      <td>16-17524</td>\n",
       "      <td>B</td>\n",
       "      <td>2015-12-28</td>\n",
       "      <td>15검사소</td>\n",
       "      <td>169.4</td>\n",
       "      <td>102.2</td>\n",
       "      <td>87.1</td>\n",
       "      <td>100.2</td>\n",
       "      <td>77.0</td>\n",
       "      <td>2.0</td>\n",
       "      <td>2.0</td>\n",
       "      <td>3</td>\n",
       "    </tr>\n",
       "  </tbody>\n",
       "</table>\n",
       "<p>7000 rows × 12 columns</p>\n",
       "</div>"
      ],
      "text/plain": [
       "               ID BloodType    ExamDate ExamLocation  Height  Chest  Weight  \\\n",
       "0     23-75463585         O  2022-01-28         1검사소   186.0  101.1    86.5   \n",
       "1     23-72596660         B  2022-02-28         5검사소   181.8   95.3    83.4   \n",
       "2     23-72347837         B  2022-05-28         9검사소   176.0  100.6    80.9   \n",
       "3     23-71795363         O  2022-02-28        27검사소   168.6   95.8    78.2   \n",
       "4     24-71758837         B  2023-08-28         1검사소   187.8   95.6    92.5   \n",
       "...           ...       ...         ...          ...     ...    ...     ...   \n",
       "6995     13-13653        AB  2012-04-28        16검사소   188.5  102.1    72.3   \n",
       "6996     09-18587         A  2008-06-28        17검사소   171.3   99.8    76.0   \n",
       "6997     20-15814         A  2019-08-28        11검사소   186.8   96.8    87.4   \n",
       "6998     07-17232         B  2006-08-28        17검사소   170.4   98.9    85.3   \n",
       "6999     16-17524         B  2015-12-28        15검사소   169.4  102.2    87.1   \n",
       "\n",
       "      BpHigh  BpLow  VisionL  VisionR  PhyGrade  \n",
       "0      104.9   73.5      0.2      0.5         3  \n",
       "1      117.4   79.1      1.5      1.8         1  \n",
       "2       93.5   73.6      0.6      0.6         2  \n",
       "3       94.3   67.0      1.0      1.0         1  \n",
       "4      109.7   64.4      1.4      1.4         1  \n",
       "...      ...    ...      ...      ...       ...  \n",
       "6995   109.3   72.9      1.6      1.8         3  \n",
       "6996    96.7   75.5      0.6      0.7         1  \n",
       "6997   115.9   72.3      0.0      0.2         1  \n",
       "6998   102.5   61.1      0.1      0.2         1  \n",
       "6999   100.2   77.0      2.0      2.0         3  \n",
       "\n",
       "[7000 rows x 12 columns]"
      ]
     },
     "execution_count": 10,
     "metadata": {},
     "output_type": "execute_result"
    }
   ],
   "source": [
    "pe"
   ]
  },
  {
   "cell_type": "code",
   "execution_count": 11,
   "metadata": {},
   "outputs": [],
   "source": [
    "for idx in range(len(pe)):\n",
    "    data = pe.loc[idx]\n",
    "    # print(data)\n",
    "    psql.insert_data('pe',data.ID,data.BloodType,data.ExamDate,data.ExamLocation,data.Height,data.Chest,data.Weight,data.BpHigh,data.BpLow,data.VisionL,data.VisionR,data.PhyGrade)"
   ]
  }
 ],
 "metadata": {
  "kernelspec": {
   "display_name": "Python 3",
   "language": "python",
   "name": "python3"
  },
  "language_info": {
   "codemirror_mode": {
    "name": "ipython",
    "version": 3
   },
   "file_extension": ".py",
   "mimetype": "text/x-python",
   "name": "python",
   "nbconvert_exporter": "python",
   "pygments_lexer": "ipython3",
   "version": "3.12.7"
  }
 },
 "nbformat": 4,
 "nbformat_minor": 2
}
