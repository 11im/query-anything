{
 "cells": [
  {
   "cell_type": "code",
   "execution_count": 4,
   "metadata": {},
   "outputs": [],
   "source": [
    "import pandas as pd\n",
    "import pkg.dbs.postgres\n",
    "from pkg import config\n",
    "from pkg import claude\n"
   ]
  },
  {
   "cell_type": "code",
   "execution_count": 5,
   "metadata": {},
   "outputs": [],
   "source": [
    "conf = config.getConfig(\"./config/config.ini\")\n",
    "pconf = conf['postgres']\n",
    "psql = pkg.dbs.postgres.PSQL(pconf['host'], int(pconf['port']),pconf['db'],pconf['user'],pconf['pw'])"
   ]
  },
  {
   "cell_type": "code",
   "execution_count": null,
   "metadata": {},
   "outputs": [
    {
     "name": "stdout",
     "output_type": "stream",
     "text": [
      "{\"fk_units\": {\"child_table\": \"units\", \"child_column\": \"commander\", \"parent_table\": \"soldierinformation\", \"parent_column\": \"id\"}, \"fk_pi1\": {\"child_table\": \"personalinformation\", \"child_column\": \"jobname\", \"parent_table\": \"jobcategory\", \"parent_column\": \"name\"}, \"fk_pi2\": {\"child_table\": \"personalinformation\", \"child_column\": \"certificate\", \"parent_table\": \"certificate\", \"parent_column\": \"id\"}, \"fk_si2\": {\"child_table\": \"soldierinformation\", \"child_column\": \"affiliation\", \"parent_table\": \"units\", \"parent_column\": \"id\"}, \"fk_si1\": {\"child_table\": \"soldierinformation\", \"child_column\": \"specialty\", \"parent_table\": \"specialty\", \"parent_column\": \"id\"}}\n"
     ]
    }
   ],
   "source": [
    "print(psql.get_foregin_keys())"
   ]
  },
  {
   "cell_type": "code",
   "execution_count": 6,
   "metadata": {},
   "outputs": [
    {
     "name": "stdout",
     "output_type": "stream",
     "text": [
      "{\"jobcategory\": [{\"name\": \"id\", \"type\": \"text\", \"max_length\": null, \"nullable\": \"NO\"}, {\"name\": \"name\", \"type\": \"text\", \"max_length\": null, \"nullable\": \"NO\"}], \"personalinformation\": [{\"name\": \"marry\", \"type\": \"boolean\", \"max_length\": null, \"nullable\": \"NO\"}, {\"name\": \"child\", \"type\": \"smallint\", \"max_length\": null, \"nullable\": \"NO\"}, {\"name\": \"religion\", \"type\": \"USER-DEFINED\", \"max_length\": null, \"nullable\": \"NO\"}, {\"name\": \"academicability\", \"type\": \"USER-DEFINED\", \"max_length\": null, \"nullable\": \"NO\"}, {\"name\": \"parentsfather\", \"type\": \"boolean\", \"max_length\": null, \"nullable\": \"NO\"}, {\"name\": \"jobyear\", \"type\": \"smallint\", \"max_length\": null, \"nullable\": \"YES\"}, {\"name\": \"parentsmother\", \"type\": \"boolean\", \"max_length\": null, \"nullable\": \"NO\"}, {\"name\": \"address4\", \"type\": \"text\", \"max_length\": null, \"nullable\": \"NO\"}, {\"name\": \"jobname\", \"type\": \"text\", \"max_length\": null, \"nullable\": \"YES\"}, {\"name\": \"id\", \"type\": \"text\", \"max_length\": null, \"nullable\": \"NO\"}, {\"name\": \"certificate\", \"type\": \"text\", \"max_length\": null, \"nullable\": \"YES\"}, {\"name\": \"name\", \"type\": \"text\", \"max_length\": null, \"nullable\": \"NO\"}, {\"name\": \"residentidb\", \"type\": \"text\", \"max_length\": null, \"nullable\": \"NO\"}, {\"name\": \"residentidf\", \"type\": \"text\", \"max_length\": null, \"nullable\": \"NO\"}, {\"name\": \"address1\", \"type\": \"text\", \"max_length\": null, \"nullable\": \"NO\"}, {\"name\": \"address2\", \"type\": \"text\", \"max_length\": null, \"nullable\": \"NO\"}, {\"name\": \"address3\", \"type\": \"text\", \"max_length\": null, \"nullable\": \"NO\"}], \"units\": [{\"name\": \"num\", \"type\": \"integer\", \"max_length\": null, \"nullable\": \"NO\"}, {\"name\": \"id\", \"type\": \"text\", \"max_length\": null, \"nullable\": \"NO\"}, {\"name\": \"name\", \"type\": \"text\", \"max_length\": null, \"nullable\": \"NO\"}, {\"name\": \"commander\", \"type\": \"text\", \"max_length\": null, \"nullable\": \"NO\"}, {\"name\": \"subordinateunit\", \"type\": \"ARRAY\", \"max_length\": null, \"nullable\": \"YES\"}, {\"name\": \"organization\", \"type\": \"text\", \"max_length\": null, \"nullable\": \"NO\"}], \"certificate\": [{\"name\": \"id\", \"type\": \"text\", \"max_length\": null, \"nullable\": \"NO\"}, {\"name\": \"name\", \"type\": \"text\", \"max_length\": null, \"nullable\": \"NO\"}], \"specialty\": [{\"name\": \"classcode\", \"type\": \"integer\", \"max_length\": null, \"nullable\": \"NO\"}, {\"name\": \"id\", \"type\": \"text\", \"max_length\": null, \"nullable\": \"NO\"}, {\"name\": \"classname\", \"type\": \"text\", \"max_length\": null, \"nullable\": \"NO\"}, {\"name\": \"specialtyname\", \"type\": \"text\", \"max_length\": null, \"nullable\": \"NO\"}], \"soldierinformation\": [{\"name\": \"rank\", \"type\": \"USER-DEFINED\", \"max_length\": null, \"nullable\": \"NO\"}, {\"name\": \"endate\", \"type\": \"date\", \"max_length\": null, \"nullable\": \"NO\"}, {\"name\": \"durationday\", \"type\": \"integer\", \"max_length\": null, \"nullable\": \"NO\"}, {\"name\": \"id\", \"type\": \"text\", \"max_length\": null, \"nullable\": \"NO\"}, {\"name\": \"specialty\", \"type\": \"text\", \"max_length\": null, \"nullable\": \"YES\"}, {\"name\": \"affiliation\", \"type\": \"text\", \"max_length\": null, \"nullable\": \"NO\"}, {\"name\": \"discipline\", \"type\": \"ARRAY\", \"max_length\": null, \"nullable\": \"YES\"}], \"pe\": [{\"name\": \"phygrade\", \"type\": \"smallint\", \"max_length\": null, \"nullable\": \"NO\"}, {\"name\": \"bplow\", \"type\": \"numeric\", \"max_length\": null, \"nullable\": \"NO\"}, {\"name\": \"visionl\", \"type\": \"numeric\", \"max_length\": null, \"nullable\": \"NO\"}, {\"name\": \"visionr\", \"type\": \"numeric\", \"max_length\": null, \"nullable\": \"NO\"}, {\"name\": \"examdate\", \"type\": \"date\", \"max_length\": null, \"nullable\": \"NO\"}, {\"name\": \"height\", \"type\": \"numeric\", \"max_length\": null, \"nullable\": \"NO\"}, {\"name\": \"chest\", \"type\": \"numeric\", \"max_length\": null, \"nullable\": \"NO\"}, {\"name\": \"weight\", \"type\": \"numeric\", \"max_length\": null, \"nullable\": \"NO\"}, {\"name\": \"bphigh\", \"type\": \"numeric\", \"max_length\": null, \"nullable\": \"NO\"}, {\"name\": \"bloodtype\", \"type\": \"character\", \"max_length\": 2, \"nullable\": \"NO\"}, {\"name\": \"id\", \"type\": \"text\", \"max_length\": null, \"nullable\": \"NO\"}, {\"name\": \"examlocation\", \"type\": \"text\", \"max_length\": null, \"nullable\": \"NO\"}]}\n"
     ]
    }
   ],
   "source": [
    "print(psql.get_db_schema())"
   ]
  },
  {
   "cell_type": "code",
   "execution_count": null,
   "metadata": {},
   "outputs": [],
   "source": [
    "units = pd.read_csv('./data/부대.csv')\n",
    "pe = pd.read_csv('./data/pe.csv',encoding='cp949')\n",
    "pi = pd.read_csv('./data/인적정보.csv')\n",
    "cert = pd.read_csv('./data/자격증.csv')\n",
    "job = pd.read_csv('./data/직업.csv',encoding='cp949')\n",
    "si = pd.read_csv('./data/si.csv',encoding='cp949')\n",
    "spec = pd.read_csv('./data/특기.csv')"
   ]
  },
  {
   "cell_type": "code",
   "execution_count": null,
   "metadata": {},
   "outputs": [],
   "source": [
    "units.dtypes"
   ]
  },
  {
   "cell_type": "code",
   "execution_count": null,
   "metadata": {},
   "outputs": [],
   "source": [
    "for idx in range(len(units)):\n",
    "    data = units.loc[idx]\n",
    "    psql.update_data(data.ID, data.Name)\n",
    "    # psql.insert_data('units',data.ID,data.Commander,data.SubordinateUnit.split(','),data.Organization\n",
    "    #                 ,data.Num, data.Name)"
   ]
  },
  {
   "cell_type": "code",
   "execution_count": null,
   "metadata": {},
   "outputs": [],
   "source": [
    "spec.dtypes"
   ]
  },
  {
   "cell_type": "code",
   "execution_count": null,
   "metadata": {},
   "outputs": [],
   "source": [
    "for idx in range(len(spec)):\n",
    "    data = spec.loc[idx]\n",
    "    psql.insert_data('specialty',data.ID,data.ClassName,data.ClassCode,\n",
    "                     data.SpecialtyName)"
   ]
  },
  {
   "cell_type": "code",
   "execution_count": null,
   "metadata": {},
   "outputs": [],
   "source": [
    "cert.dtypes"
   ]
  },
  {
   "cell_type": "code",
   "execution_count": null,
   "metadata": {},
   "outputs": [],
   "source": [
    "for idx in range(len(cert)):\n",
    "    data = cert.loc[idx]\n",
    "    psql.insert_data('certificate',data.ID,data.Name)"
   ]
  },
  {
   "cell_type": "code",
   "execution_count": null,
   "metadata": {},
   "outputs": [],
   "source": [
    "job.dtypes"
   ]
  },
  {
   "cell_type": "code",
   "execution_count": null,
   "metadata": {},
   "outputs": [],
   "source": [
    "for idx in range(len(job)):\n",
    "    data = job.loc[idx]\n",
    "    psql.insert_data('jobcategory',data.ID,data.Name)"
   ]
  },
  {
   "cell_type": "code",
   "execution_count": null,
   "metadata": {},
   "outputs": [],
   "source": [
    "si.dtypes"
   ]
  },
  {
   "cell_type": "code",
   "execution_count": null,
   "metadata": {},
   "outputs": [],
   "source": [
    "si = si.fillna('')"
   ]
  },
  {
   "cell_type": "code",
   "execution_count": null,
   "metadata": {},
   "outputs": [],
   "source": [
    "for idx in range(len(si)):\n",
    "    data = si.loc[idx]\n",
    "    psql.insert_data('soldierinformation',data.ID,data.EnDate,data.DurationDay,data.Rank,data.Specialty,data.Affiliation,data.Discipline.split(','))"
   ]
  },
  {
   "cell_type": "code",
   "execution_count": null,
   "metadata": {},
   "outputs": [],
   "source": [
    "pi.dtypes"
   ]
  },
  {
   "cell_type": "code",
   "execution_count": null,
   "metadata": {},
   "outputs": [],
   "source": [
    "rel = {'기독교', '불교', '천주교', '원불교', '무교', '기타'}\n",
    "for i, val in enumerate(rel):\n",
    "    pi.Religion = pi.Religion.replace(to_replace=i+1,value=val)"
   ]
  },
  {
   "cell_type": "code",
   "execution_count": null,
   "metadata": {},
   "outputs": [],
   "source": [
    "aa = {'중', '고', '학사', '석사', '박사'}\n",
    "for i, val in enumerate(aa):\n",
    "    pi.AcademicAbility = pi.AcademicAbility.replace(to_replace=i+1,value=val)"
   ]
  },
  {
   "cell_type": "code",
   "execution_count": null,
   "metadata": {},
   "outputs": [],
   "source": [
    "pi.JobYear = pi.JobYear.fillna(0)\n",
    "pi = pi.fillna('')"
   ]
  },
  {
   "cell_type": "code",
   "execution_count": null,
   "metadata": {},
   "outputs": [],
   "source": [
    "pi.isna().sum()"
   ]
  },
  {
   "cell_type": "code",
   "execution_count": null,
   "metadata": {},
   "outputs": [],
   "source": [
    "for idx in range(len(pi)):\n",
    "    data = pi.loc[idx]\n",
    "    psql.insert_data('personalinformation',data.ID,data.Name,data.ResidentIDB,data.ResidentIDF,data.Address1,data.Address2,data.Address3\n",
    "                     ,data.Address4,data.ParentsFather,data.ParentsMother,data.Marry,data.Child,data.Religion,data.AcademicAbility,data.JobName,data.JobYear,data.Certificate)"
   ]
  },
  {
   "cell_type": "code",
   "execution_count": null,
   "metadata": {},
   "outputs": [],
   "source": [
    "pe.dtypes"
   ]
  },
  {
   "cell_type": "code",
   "execution_count": null,
   "metadata": {},
   "outputs": [],
   "source": [
    "pe.ExamDate = pe.ExamDate.astype(str)"
   ]
  },
  {
   "cell_type": "code",
   "execution_count": null,
   "metadata": {},
   "outputs": [],
   "source": [
    "pe.ExamDate = pe.ExamDate.apply(lambda x: '0' + x if len(x)<=5 else x)"
   ]
  },
  {
   "cell_type": "code",
   "execution_count": null,
   "metadata": {},
   "outputs": [],
   "source": [
    "pe.ExamDate = pe.ExamDate.apply(lambda x: x[:2]+x[2:4]+'28' if x[2:]=='0229' or '0230' else x)"
   ]
  },
  {
   "cell_type": "code",
   "execution_count": null,
   "metadata": {},
   "outputs": [],
   "source": [
    "pe.ExamDate = pe.ExamDate.apply(lambda x : '20'+x[:2]+'-'+x[2:4]+'-'+x[-2:])"
   ]
  },
  {
   "cell_type": "code",
   "execution_count": null,
   "metadata": {},
   "outputs": [],
   "source": [
    "pe"
   ]
  },
  {
   "cell_type": "code",
   "execution_count": null,
   "metadata": {},
   "outputs": [],
   "source": [
    "for idx in range(len(pe)):\n",
    "    data = pe.loc[idx]\n",
    "    # print(data)\n",
    "    psql.insert_data('pe',data.ID,data.BloodType,data.ExamDate,data.ExamLocation,data.Height,data.Chest,data.Weight,data.BpHigh,data.BpLow,data.VisionL,data.VisionR,data.PhyGrade)"
   ]
  }
 ],
 "metadata": {
  "kernelspec": {
   "display_name": ".venv",
   "language": "python",
   "name": "python3"
  },
  "language_info": {
   "codemirror_mode": {
    "name": "ipython",
    "version": 3
   },
   "file_extension": ".py",
   "mimetype": "text/x-python",
   "name": "python",
   "nbconvert_exporter": "python",
   "pygments_lexer": "ipython3",
   "version": "3.12.7"
  }
 },
 "nbformat": 4,
 "nbformat_minor": 2
}
